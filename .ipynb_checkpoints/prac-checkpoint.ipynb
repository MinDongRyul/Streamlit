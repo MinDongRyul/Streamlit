{
 "cells": [
  {
   "cell_type": "code",
   "execution_count": 18,
   "id": "f4ad7e28",
   "metadata": {},
   "outputs": [
    {
     "data": {
      "text/plain": [
       "Pos.          int64\n",
       "Player       object\n",
       "Year          int64\n",
       "Fee          object\n",
       "From Club    object\n",
       "To Club      object\n",
       "dtype: object"
      ]
     },
     "execution_count": 18,
     "metadata": {},
     "output_type": "execute_result"
    }
   ],
   "source": [
    "import pandas as pd\n",
    "data_df = pd.read_csv('/Users/민동률/Streamlit/data/dataset.csv')\n",
    "data_df.dtypes"
   ]
  },
  {
   "cell_type": "code",
   "execution_count": null,
   "id": "6b432beb",
   "metadata": {
    "scrolled": false
   },
   "outputs": [],
   "source": []
  },
  {
   "cell_type": "code",
   "execution_count": null,
   "id": "cfe69769",
   "metadata": {
    "scrolled": true
   },
   "outputs": [],
   "source": [
    "import streamlit as st\n",
    "from streamlit_cropper import st_cropper\n",
    "from PIL import Image\n",
    "st.set_option('deprecation.showfileUploaderEncoding', False)\n",
    "\n",
    "# Upload an image and set some options for demo purposes\n",
    "st.header(\"Cropper Demo\")\n",
    "img_file = st.sidebar.file_uploader(label='Upload a file', type=['png', 'jpg'])\n",
    "realtime_update = st.sidebar.checkbox(label=\"Update in Real Time\", value=True)\n",
    "box_color = st.sidebar.color_picker(label=\"Box Color\", value='#0000FF')\n",
    "aspect_choice = st.sidebar.radio(label=\"Aspect Ratio\", options=[\"1:1\", \"16:9\", \"4:3\", \"2:3\", \"Free\"])\n",
    "aspect_dict = {\n",
    "    \"1:1\": (1, 1),\n",
    "    \"16:9\": (16, 9),\n",
    "    \"4:3\": (4, 3),\n",
    "    \"2:3\": (2, 3),\n",
    "    \"Free\": None\n",
    "}\n",
    "aspect_ratio = aspect_dict[aspect_choice]\n",
    "\n",
    "if img_file:\n",
    "    img = Image.open(img_file)\n",
    "    if not realtime_update:\n",
    "        st.write(\"Double click to save crop\")\n",
    "    # Get a cropped image from the frontend\n",
    "    cropped_img = st_cropper(img, realtime_update=realtime_update, box_color=box_color,\n",
    "                                aspect_ratio=aspect_ratio)\n",
    "    \n",
    "    # Manipulate cropped image at will\n",
    "    st.write(\"Preview\")\n",
    "    _ = cropped_img.thumbnail((150,150))\n",
    "    st.image(cropped_img)"
   ]
  },
  {
   "cell_type": "code",
   "execution_count": 15,
   "id": "b6dfff57",
   "metadata": {},
   "outputs": [
    {
     "data": {
      "text/plain": [
       "5    2.45\n",
       "6    2.45\n",
       "7    2.61\n",
       "8    2.17\n",
       "9    2.27\n",
       "Name: ash, dtype: float64"
      ]
     },
     "execution_count": 15,
     "metadata": {},
     "output_type": "execute_result"
    }
   ],
   "source": [
    "from sklearn.datasets import load_wine\n",
    "import pandas as pd\n",
    "wine = load_wine()\n",
    "data = wine['data']\n",
    "wine_df = pd.DataFrame(data, columns=wine['feature_names'])\n",
    "wine_df['ash'][5:10]"
   ]
  },
  {
   "cell_type": "code",
   "execution_count": null,
   "id": "b2f0b678",
   "metadata": {},
   "outputs": [],
   "source": [
    "import streamlit as st\n",
    "st.title('asd')"
   ]
  },
  {
   "cell_type": "code",
   "execution_count": 19,
   "id": "3a594a44",
   "metadata": {},
   "outputs": [
    {
     "ename": "SyntaxError",
     "evalue": "cannot assign to f-string expression here. Maybe you meant '==' instead of '='? (924927439.py, line 2)",
     "output_type": "error",
     "traceback": [
      "\u001b[1;36m  Cell \u001b[1;32mIn[19], line 2\u001b[1;36m\u001b[0m\n\u001b[1;33m    f'idx+i' = i\u001b[0m\n\u001b[1;37m    ^\u001b[0m\n\u001b[1;31mSyntaxError\u001b[0m\u001b[1;31m:\u001b[0m cannot assign to f-string expression here. Maybe you meant '==' instead of '='?\n"
     ]
    }
   ],
   "source": []
  },
  {
   "cell_type": "code",
   "execution_count": null,
   "id": "a0221d30",
   "metadata": {},
   "outputs": [],
   "source": []
  }
 ],
 "metadata": {
  "kernelspec": {
   "display_name": "Python 3 (ipykernel)",
   "language": "python",
   "name": "python3"
  },
  "language_info": {
   "codemirror_mode": {
    "name": "ipython",
    "version": 3
   },
   "file_extension": ".py",
   "mimetype": "text/x-python",
   "name": "python",
   "nbconvert_exporter": "python",
   "pygments_lexer": "ipython3",
   "version": "3.10.9"
  }
 },
 "nbformat": 4,
 "nbformat_minor": 5
}
